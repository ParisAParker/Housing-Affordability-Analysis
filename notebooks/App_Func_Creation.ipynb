{
 "cells": [
  {
   "cell_type": "code",
   "execution_count": 1,
   "id": "77250380",
   "metadata": {},
   "outputs": [],
   "source": [
    "import numpy as np\n",
    "import pandas as pd\n",
    "import matplotlib.pyplot as plt"
   ]
  },
  {
   "cell_type": "code",
   "execution_count": 2,
   "id": "5a713dd5",
   "metadata": {},
   "outputs": [],
   "source": [
    "national_df = pd.read_csv(\"../data/national_housing.csv\")\n",
    "state_df = pd.read_csv(\"../data/state_housing.csv\")"
   ]
  },
  {
   "cell_type": "code",
   "execution_count": 49,
   "id": "37fc7dc8",
   "metadata": {},
   "outputs": [
    {
     "data": {
      "text/plain": [
       "(219000.0, 'West Virginia', 46)"
      ]
     },
     "execution_count": 49,
     "metadata": {},
     "output_type": "execute_result"
    }
   ],
   "source": [
    "metric = 'Median Listing Price'\n",
    "month = 'December'\n",
    "year = 2022\n",
    "method = 'lowest'\n",
    "\n",
    "def percent_higher_lower(metric, month, year, method):\n",
    "    # Filter data for the specific month and year\n",
    "    local_filtered_df = state_df.query(f\"month == '{month}' and year =={year}\")\n",
    "    \n",
    "    # Are we comparing the highest or lowest state?\n",
    "    if method == 'highest':\n",
    "        \n",
    "        # Find the row that has the highest value for the specific metric\n",
    "        metric_row = local_filtered_df.sort_values(by = f'{metric}', ascending = False).iloc[0]\n",
    "    elif method == 'lowest':\n",
    "        \n",
    "        \n",
    "        # Find the row that has the lowest value for the specific metric\n",
    "        metric_row = local_filtered_df.sort_values(by = f'{metric}', ascending = True).iloc[0]\n",
    "    \n",
    "    else:\n",
    "        raise ValueError(\"No correct method type highest or lowest\")\n",
    "        \n",
    "    # Find the state and metric value of the row\n",
    "    metric_value = metric_row[f\"{metric}\"]\n",
    "    state = metric_row['state']\n",
    "\n",
    "    # Filter data for national dataframe\n",
    "    national_local_filtered_df = national_df.query(f\"month == '{month}' and year =={year}\")\n",
    "\n",
    "    # Find the metric value at the national level\n",
    "    national_metric_value = national_local_filtered_df.iloc[0][f'{metric}']\n",
    "\n",
    "    # Find how much higher/lower the metric value is than the national value\n",
    "    percent_change = abs(round(((metric_value - national_metric_value) / national_metric_value) * 100,0).astype(int))\n",
    "\n",
    "    return metric_value, state, percent_change\n",
    "\n",
    "percent_higher(metric, month, year, method)"
   ]
  },
  {
   "cell_type": "code",
   "execution_count": 22,
   "id": "f3454298",
   "metadata": {},
   "outputs": [
    {
     "data": {
      "text/plain": [
       "23"
      ]
     },
     "execution_count": 22,
     "metadata": {},
     "output_type": "execute_result"
    }
   ],
   "source": [
    "metric = 'Median Listing Price'\n",
    "month = 'December'\n",
    "year = 2022\n",
    "\n",
    "def national_comparison(metric, month, year)\n",
    "    # Find the national value of the metric\n",
    "    national_value = national_df.query(f\"year == {year} and month == '{month}'\").iloc[0][f\"{metric}\"]\n",
    "\n",
    "    # Filter the dataframe for the month and year\n",
    "    local_filtered_df = state_df.query(f\"year == {year} and month == '{month}'\")\n",
    "\n",
    "    # Find how many states are above the national value\n",
    "    states_num_above = len(local_filtered_df[local_filtered_df[f'{metric}'] >= national_value])\n",
    "\n",
    "    # Find what percentage of all states are above the national value\n",
    "    percent_states_above = states_num_above / len(local_filtered_df)\n",
    "\n",
    "    return states_num_above, percent_states_above"
   ]
  }
 ],
 "metadata": {
  "kernelspec": {
   "display_name": "Python 3 (ipykernel)",
   "language": "python",
   "name": "python3"
  },
  "language_info": {
   "codemirror_mode": {
    "name": "ipython",
    "version": 3
   },
   "file_extension": ".py",
   "mimetype": "text/x-python",
   "name": "python",
   "nbconvert_exporter": "python",
   "pygments_lexer": "ipython3",
   "version": "3.11.5"
  }
 },
 "nbformat": 4,
 "nbformat_minor": 5
}
