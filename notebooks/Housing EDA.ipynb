{
 "cells": [
  {
   "cell_type": "code",
   "execution_count": 1,
   "id": "9359fb90",
   "metadata": {},
   "outputs": [],
   "source": [
    "import numpy as np\n",
    "import pandas as pd\n",
    "import matplotlib.pyplot as plt\n",
    "import matplotlib.gridspec as gridspec\n",
    "import seaborn as sns\n",
    "from datetime import datetime"
   ]
  },
  {
   "cell_type": "code",
   "execution_count": 2,
   "id": "ba6333d9",
   "metadata": {},
   "outputs": [],
   "source": [
    "# Read in csv files\n",
    "realtor = pd.read_csv(\"../data/realtor_housing_metrics_state.csv\")\n",
    "\n",
    "national_realtor = pd.read_csv(\"../data/realtor_housing_metrics_country.csv\")\n",
    "\n",
    "median_income = pd.read_csv(\"../data/median_income_by_state.csv\")\n",
    "\n",
    "national_median_income = pd.read_csv(\"../data/income_updated.csv\", index_col = [0])"
   ]
  },
  {
   "cell_type": "code",
   "execution_count": 3,
   "id": "480faba5",
   "metadata": {},
   "outputs": [],
   "source": [
    "# Converting to datetime column & creating year column\n",
    "realtor['month_date_yyyymm'] = pd.to_datetime(realtor['month_date_yyyymm'])\n",
    "\n",
    "realtor['year'] = realtor['month_date_yyyymm'].dt.year\n",
    "\n",
    "realtor['month'] = realtor['month_date_yyyymm'].dt.month_name()\n",
    "\n",
    "national_realtor['month_date_yyyymm'] = pd.to_datetime(national_realtor['month_date_yyyymm'])\n",
    "\n",
    "national_realtor['year'] = national_realtor['month_date_yyyymm'].dt.year\n",
    "\n",
    "national_realtor['month'] = national_realtor['month_date_yyyymm'].dt.month_name()"
   ]
  },
  {
   "cell_type": "code",
   "execution_count": 4,
   "id": "cc17a1fb",
   "metadata": {},
   "outputs": [],
   "source": [
    "# Creating df for housing by state & housing for the whole country\n",
    "state_housing_df = realtor.merge(median_income, how = 'left')\n",
    "\n",
    "national_housing_df = national_realtor.merge(national_median_income, how = 'left')"
   ]
  },
  {
   "cell_type": "code",
   "execution_count": 5,
   "id": "c016ff08",
   "metadata": {},
   "outputs": [],
   "source": [
    "# Take median income and divide by median listing price\n",
    "national_housing_df['Income to Home Price Ratio'] = national_housing_df['median_income'] / national_housing_df['median_listing_price']\n",
    "state_housing_df['Income to Home Price Ratio'] = state_housing_df['Households'] / state_housing_df['median_listing_price']"
   ]
  },
  {
   "cell_type": "code",
   "execution_count": 6,
   "id": "35c9eeb0",
   "metadata": {},
   "outputs": [],
   "source": [
    "# Rename columns\n",
    "national_housing_df = national_housing_df.rename(columns = {'median_listing_price': 'Median Listing Price',\n",
    "                                                           'median_income': 'Median Income',\n",
    "                                                           'median_square_feet': 'Median Square Feet',\n",
    "                                                           'median_listing_price_per_square_foot': 'Median Listing Price per Square Foot'})\n",
    "\n",
    "state_housing_df = state_housing_df.rename(columns = {'Households': 'Median Income',\n",
    "                                  'median_listing_price': 'Median Listing Price',\n",
    "                                                     'median_square_feet': 'Median Square Feet',\n",
    "                                                           'median_listing_price_per_square_foot': 'Median Listing Price per Square Foot'})"
   ]
  },
  {
   "cell_type": "code",
   "execution_count": 7,
   "id": "3a7d8ed4",
   "metadata": {},
   "outputs": [],
   "source": [
    "state_housing_df.to_csv(\"../data/state_housing.csv\", index = False)\n",
    "national_housing_df.to_csv(\"../data/national_housing.csv\", index = False)"
   ]
  },
  {
   "cell_type": "markdown",
   "id": "adec0c1a",
   "metadata": {},
   "source": [
    "national_housing_df = pd.read_csv('../data/national_housing.csv')"
   ]
  },
  {
   "cell_type": "code",
   "execution_count": 72,
   "id": "6800e457",
   "metadata": {},
   "outputs": [
    {
     "name": "stderr",
     "output_type": "stream",
     "text": [
      "C:\\Users\\kidsa\\AppData\\Local\\Temp\\ipykernel_42212\\2410405451.py:5: SettingWithCopyWarning: \n",
      "A value is trying to be set on a copy of a slice from a DataFrame.\n",
      "Try using .loc[row_indexer,col_indexer] = value instead\n",
      "\n",
      "See the caveats in the documentation: https://pandas.pydata.org/pandas-docs/stable/user_guide/indexing.html#returning-a-view-versus-a-copy\n",
      "  n_filtered_ratio['month'] = pd.Categorical(n_filtered_ratio['month'], categories = month_order, ordered = True)\n",
      "C:\\Users\\kidsa\\AppData\\Local\\Temp\\ipykernel_42212\\2410405451.py:7: SettingWithCopyWarning: \n",
      "A value is trying to be set on a copy of a slice from a DataFrame.\n",
      "Try using .loc[row_indexer,col_indexer] = value instead\n",
      "\n",
      "See the caveats in the documentation: https://pandas.pydata.org/pandas-docs/stable/user_guide/indexing.html#returning-a-view-versus-a-copy\n",
      "  n_filtered_ratio['Ratio Yearly Average'] = n_filtered_ratio.groupby('year')['Income to Home Price Ratio'].transform('mean')\n",
      "C:\\Users\\kidsa\\AppData\\Local\\Temp\\ipykernel_42212\\2410405451.py:9: SettingWithCopyWarning: \n",
      "A value is trying to be set on a copy of a slice from a DataFrame.\n",
      "Try using .loc[row_indexer,col_indexer] = value instead\n",
      "\n",
      "See the caveats in the documentation: https://pandas.pydata.org/pandas-docs/stable/user_guide/indexing.html#returning-a-view-versus-a-copy\n",
      "  n_filtered_ratio['monthly_pct_diff'] = ((n_filtered_ratio['Income to Home Price Ratio'] - n_filtered_ratio['Ratio Yearly Average']) / n_filtered_ratio['Ratio Yearly Average']) * 100\n"
     ]
    },
    {
     "data": {
      "text/plain": [
       "<BarContainer object of 12 artists>"
      ]
     },
     "execution_count": 72,
     "metadata": {},
     "output_type": "execute_result"
    },
    {
     "data": {
      "image/png": "[encoded data removed]",
      "text/plain": [
       "<Figure size 640x480 with 1 Axes>"
      ]
     },
     "metadata": {},
     "output_type": "display_data"
    }
   ],
   "source": [
    "n_filtered_ratio = national_housing_df.dropna(subset = 'Income to Home Price Ratio')\n",
    "\n",
    "# Make months a categorical variable with an order\n",
    "month_order = ['January', 'February','March','April','May','June','July','August','September','October','November','December']\n",
    "n_filtered_ratio['month'] = pd.Categorical(n_filtered_ratio['month'], categories = month_order, ordered = True)\n",
    "\n",
    "n_filtered_ratio['Ratio Yearly Average'] = n_filtered_ratio.groupby('year')['Income to Home Price Ratio'].transform('mean')\n",
    "\n",
    "n_filtered_ratio['monthly_pct_diff'] = ((n_filtered_ratio['Income to Home Price Ratio'] - n_filtered_ratio['Ratio Yearly Average']) / n_filtered_ratio['Ratio Yearly Average']) * 100\n",
    "\n",
    "n_filtered_ratio\n",
    "\n",
    "filtered = n_filtered_ratio.query(f\"year == 2022\")\n",
    "\n",
    "plt.barh(width = filtered['monthly_pct_diff'], y = filtered['month'])"
   ]
  },
  {
   "cell_type": "code",
   "execution_count": 77,
   "id": "6b8a76b2",
   "metadata": {},
   "outputs": [
    {
     "data": {
      "text/plain": [
       "<Axes: ylabel='month'>"
      ]
     },
     "execution_count": 77,
     "metadata": {},
     "output_type": "execute_result"
    },
    {
     "data": {
      "image/png": "[encoded data removed]",
      "text/plain": [
       "<Figure size 640x480 with 1 Axes>"
      ]
     },
     "metadata": {},
     "output_type": "display_data"
    }
   ],
   "source": [
    "n_filtered_ratio.groupby('month')['monthly_pct_diff'].mean().plot(kind = 'barh')"
   ]
  },
  {
   "cell_type": "code",
   "execution_count": 117,
   "id": "9826daa6",
   "metadata": {},
   "outputs": [
    {
     "data": {
      "text/plain": [
       "(82.0, 113.8)"
      ]
     },
     "execution_count": 117,
     "metadata": {},
     "output_type": "execute_result"
    },
    {
     "data": {
      "image/png": "[encoded data removed]",
      "text/plain": [
       "<Figure size 640x480 with 1 Axes>"
      ]
     },
     "metadata": {},
     "output_type": "display_data"
    }
   ],
   "source": [
    "national_housing_df = national_housing_df.query('year != 2024')\n",
    "\n",
    "national_housing_df['Median Listing Price Yearly Average'] = national_housing_df.groupby('year')['Median Listing Price'].transform('mean')\n",
    "\n",
    "national_housing_df['Median Listing Price Percentage of Average'] = (national_housing_df['Median Listing Price'] / national_housing_df['Median Listing Price Yearly Average']) * 100\n",
    "\n",
    "# Make months a categorical variable with an order\n",
    "month_order = ['January', 'February','March','April','May','June','July','August','September','October','November','December']\n",
    "national_housing_df['month'] = pd.Categorical(national_housing_df['month'], categories = month_order, ordered = True)\n",
    "\n",
    "agg_value = national_housing_df.groupby('month')['Median Listing Price Percentage of Average'].mean().reset_index()\n",
    "\n",
    "agg_value = agg_value.sort_values('month', ascending = False)\n",
    "\n",
    "metric = 'Median Listing Price Percentage of Average'\n",
    "\n",
    "# Define x and y\n",
    "x = agg_value[f'{metric}']\n",
    "y = agg_value['month']\n",
    "\n",
    "# Round x values\n",
    "x = round(x,1)\n",
    "\n",
    "# Create horizontal bar chart for top 10 states\n",
    "fig, ax = plt.subplots()\n",
    "bars = ax.barh(y, x, color = 'grey')\n",
    "\n",
    "# # Highlight a specific state\n",
    "# for bar, state in zip(bars, y):\n",
    "#     if state in states:\n",
    "#         bar.set_color('blue')\n",
    "\n",
    "# Set the title and axes\n",
    "ax.set_xlabel(f'{metric}')\n",
    "ax.set_title('January is the Best Time to Buy A House')\n",
    "\n",
    "# Remove the spines\n",
    "ax.spines['top'].set_visible(False)\n",
    "ax.spines['right'].set_visible(False)\n",
    "\n",
    "# Label the bar numbers\n",
    "ax.bar_label(bars, color = 'white', padding = -50)\n",
    "\n",
    "# Calculate the max of the metric and round\n",
    "min_value = x.min()\n",
    "\n",
    "max_value = x.max()\n",
    "\n",
    "\n",
    "# Set the x range\n",
    "ax.set_xlim(min_value - 10, max_value + 10)"
   ]
  },
  {
   "cell_type": "code",
   "execution_count": 120,
   "id": "bb9faf7e",
   "metadata": {},
   "outputs": [
    {
     "data": {
      "text/plain": [
       "91.96290570539443"
      ]
     },
     "execution_count": 120,
     "metadata": {},
     "output_type": "execute_result"
    }
   ],
   "source": [
    "agg_value['Median Listing Price Percentage of Average'].min()"
   ]
  },
  {
   "cell_type": "markdown",
   "id": "4f369998",
   "metadata": {},
   "source": [
    "# Create affordability index line graph at national level"
   ]
  },
  {
   "cell_type": "code",
   "execution_count": 108,
   "id": "52503968",
   "metadata": {},
   "outputs": [
    {
     "data": {
      "text/plain": [
       "-2"
      ]
     },
     "execution_count": 108,
     "metadata": {},
     "output_type": "execute_result"
    }
   ],
   "source": [
    "max_round_parameter"
   ]
  },
  {
   "cell_type": "code",
   "execution_count": 8,
   "id": "3b0c88cb",
   "metadata": {},
   "outputs": [],
   "source": [
    "national_housing_df['month_date_yyyymm'] = pd.to_datetime(national_housing_df['month_date_yyyymm'])"
   ]
  },
  {
   "cell_type": "code",
   "execution_count": 9,
   "id": "0df24caf",
   "metadata": {},
   "outputs": [
    {
     "data": {
      "text/plain": [
       "Text(0.5, 1.0, 'Income to Home Price Ratio Over Time')"
      ]
     },
     "execution_count": 9,
     "metadata": {},
     "output_type": "execute_result"
    },
    {
     "data": {
      "image/png": "[encoded data removed]",
      "text/plain": [
       "<Figure size 640x480 with 1 Axes>"
      ]
     },
     "metadata": {},
     "output_type": "display_data"
    }
   ],
   "source": [
    "# Create line graph for national affordability index over several years\n",
    "fig, ax = plt.subplots()\n",
    "ax.plot(national_housing_df['month_date_yyyymm'], national_housing_df['Income to Home Price Ratio'])\n",
    "\n",
    "# Set the title and axes\n",
    "ax.set_xlabel('Date')\n",
    "ax.set_ylabel('Income to Home Price Ratio')\n",
    "ax.set_title('Income to Home Price Ratio Over Time')"
   ]
  },
  {
   "cell_type": "code",
   "execution_count": 10,
   "id": "ac0d51f0",
   "metadata": {},
   "outputs": [
    {
     "ename": "KeyError",
     "evalue": "'affordability_index'",
     "output_type": "error",
     "traceback": [
      "\u001b[1;31m---------------------------------------------------------------------------\u001b[0m",
      "\u001b[1;31mKeyError\u001b[0m                                  Traceback (most recent call last)",
      "File \u001b[1;32m~\\anaconda3\\Lib\\site-packages\\pandas\\core\\indexes\\base.py:3653\u001b[0m, in \u001b[0;36mIndex.get_loc\u001b[1;34m(self, key)\u001b[0m\n\u001b[0;32m   3652\u001b[0m \u001b[38;5;28;01mtry\u001b[39;00m:\n\u001b[1;32m-> 3653\u001b[0m     \u001b[38;5;28;01mreturn\u001b[39;00m \u001b[38;5;28mself\u001b[39m\u001b[38;5;241m.\u001b[39m_engine\u001b[38;5;241m.\u001b[39mget_loc(casted_key)\n\u001b[0;32m   3654\u001b[0m \u001b[38;5;28;01mexcept\u001b[39;00m \u001b[38;5;167;01mKeyError\u001b[39;00m \u001b[38;5;28;01mas\u001b[39;00m err:\n",
      "File \u001b[1;32m~\\anaconda3\\Lib\\site-packages\\pandas\\_libs\\index.pyx:147\u001b[0m, in \u001b[0;36mpandas._libs.index.IndexEngine.get_loc\u001b[1;34m()\u001b[0m\n",
      "File \u001b[1;32m~\\anaconda3\\Lib\\site-packages\\pandas\\_libs\\index.pyx:176\u001b[0m, in \u001b[0;36mpandas._libs.index.IndexEngine.get_loc\u001b[1;34m()\u001b[0m\n",
      "File \u001b[1;32mpandas\\_libs\\hashtable_class_helper.pxi:7080\u001b[0m, in \u001b[0;36mpandas._libs.hashtable.PyObjectHashTable.get_item\u001b[1;34m()\u001b[0m\n",
      "File \u001b[1;32mpandas\\_libs\\hashtable_class_helper.pxi:7088\u001b[0m, in \u001b[0;36mpandas._libs.hashtable.PyObjectHashTable.get_item\u001b[1;34m()\u001b[0m\n",
      "\u001b[1;31mKeyError\u001b[0m: 'affordability_index'",
      "\nThe above exception was the direct cause of the following exception:\n",
      "\u001b[1;31mKeyError\u001b[0m                                  Traceback (most recent call last)",
      "Cell \u001b[1;32mIn[10], line 8\u001b[0m\n\u001b[0;32m      5\u001b[0m filtered_df \u001b[38;5;241m=\u001b[39m national_housing_df\u001b[38;5;241m.\u001b[39mquery(\u001b[38;5;124mf\u001b[39m\u001b[38;5;124m'\u001b[39m\u001b[38;5;124myear == \u001b[39m\u001b[38;5;132;01m{\u001b[39;00myear\u001b[38;5;132;01m}\u001b[39;00m\u001b[38;5;124m'\u001b[39m)\n\u001b[0;32m      7\u001b[0m \u001b[38;5;66;03m# Define x and y\u001b[39;00m\n\u001b[1;32m----> 8\u001b[0m x \u001b[38;5;241m=\u001b[39m filtered_df[\u001b[38;5;124m'\u001b[39m\u001b[38;5;124maffordability_index\u001b[39m\u001b[38;5;124m'\u001b[39m]\n\u001b[0;32m      9\u001b[0m y \u001b[38;5;241m=\u001b[39m filtered_df[\u001b[38;5;124m'\u001b[39m\u001b[38;5;124mmonth\u001b[39m\u001b[38;5;124m'\u001b[39m]\n\u001b[0;32m     11\u001b[0m \u001b[38;5;66;03m# Create horizontal bar chart for national affordability index by month\u001b[39;00m\n",
      "File \u001b[1;32m~\\anaconda3\\Lib\\site-packages\\pandas\\core\\frame.py:3761\u001b[0m, in \u001b[0;36mDataFrame.__getitem__\u001b[1;34m(self, key)\u001b[0m\n\u001b[0;32m   3759\u001b[0m \u001b[38;5;28;01mif\u001b[39;00m \u001b[38;5;28mself\u001b[39m\u001b[38;5;241m.\u001b[39mcolumns\u001b[38;5;241m.\u001b[39mnlevels \u001b[38;5;241m>\u001b[39m \u001b[38;5;241m1\u001b[39m:\n\u001b[0;32m   3760\u001b[0m     \u001b[38;5;28;01mreturn\u001b[39;00m \u001b[38;5;28mself\u001b[39m\u001b[38;5;241m.\u001b[39m_getitem_multilevel(key)\n\u001b[1;32m-> 3761\u001b[0m indexer \u001b[38;5;241m=\u001b[39m \u001b[38;5;28mself\u001b[39m\u001b[38;5;241m.\u001b[39mcolumns\u001b[38;5;241m.\u001b[39mget_loc(key)\n\u001b[0;32m   3762\u001b[0m \u001b[38;5;28;01mif\u001b[39;00m is_integer(indexer):\n\u001b[0;32m   3763\u001b[0m     indexer \u001b[38;5;241m=\u001b[39m [indexer]\n",
      "File \u001b[1;32m~\\anaconda3\\Lib\\site-packages\\pandas\\core\\indexes\\base.py:3655\u001b[0m, in \u001b[0;36mIndex.get_loc\u001b[1;34m(self, key)\u001b[0m\n\u001b[0;32m   3653\u001b[0m     \u001b[38;5;28;01mreturn\u001b[39;00m \u001b[38;5;28mself\u001b[39m\u001b[38;5;241m.\u001b[39m_engine\u001b[38;5;241m.\u001b[39mget_loc(casted_key)\n\u001b[0;32m   3654\u001b[0m \u001b[38;5;28;01mexcept\u001b[39;00m \u001b[38;5;167;01mKeyError\u001b[39;00m \u001b[38;5;28;01mas\u001b[39;00m err:\n\u001b[1;32m-> 3655\u001b[0m     \u001b[38;5;28;01mraise\u001b[39;00m \u001b[38;5;167;01mKeyError\u001b[39;00m(key) \u001b[38;5;28;01mfrom\u001b[39;00m \u001b[38;5;21;01merr\u001b[39;00m\n\u001b[0;32m   3656\u001b[0m \u001b[38;5;28;01mexcept\u001b[39;00m \u001b[38;5;167;01mTypeError\u001b[39;00m:\n\u001b[0;32m   3657\u001b[0m     \u001b[38;5;66;03m# If we have a listlike key, _check_indexing_error will raise\u001b[39;00m\n\u001b[0;32m   3658\u001b[0m     \u001b[38;5;66;03m#  InvalidIndexError. Otherwise we fall through and re-raise\u001b[39;00m\n\u001b[0;32m   3659\u001b[0m     \u001b[38;5;66;03m#  the TypeError.\u001b[39;00m\n\u001b[0;32m   3660\u001b[0m     \u001b[38;5;28mself\u001b[39m\u001b[38;5;241m.\u001b[39m_check_indexing_error(key)\n",
      "\u001b[1;31mKeyError\u001b[0m: 'affordability_index'"
     ]
    }
   ],
   "source": [
    "# Select the year\n",
    "year = 2019\n",
    "\n",
    "# Create dataframe filtered for selected year\n",
    "filtered_df = national_housing_df.query(f'year == {year}')\n",
    "\n",
    "# Define x and y\n",
    "x = filtered_df['affordability_index']\n",
    "y = filtered_df['month']\n",
    "\n",
    "# Create horizontal bar chart for national affordability index by month\n",
    "fig, ax = plt.subplots()\n",
    "bars = ax.barh(y, x)\n",
    "\n",
    "# Set the title and axes\n",
    "ax.set_xlabel('Income to Home Price Ratio')\n",
    "ax.set_ylabel('Month')\n",
    "ax.set_title(f'Income to Home Price Ratio by Month for {year}')\n",
    "\n",
    "ax.bar_label(bars)\n",
    "ax.set_xlim(0,0.35)"
   ]
  },
  {
   "cell_type": "markdown",
   "id": "817c044e",
   "metadata": {},
   "source": [
    "# Create affordability index line graph by state"
   ]
  },
  {
   "cell_type": "code",
   "execution_count": null,
   "id": "f2f8b7f0",
   "metadata": {},
   "outputs": [],
   "source": [
    "national_housing_df['affordability_index'] = national_housing_df['median_income'] / national_housing_df['median_listing_price']"
   ]
  },
  {
   "cell_type": "code",
   "execution_count": null,
   "id": "e741b3a4",
   "metadata": {},
   "outputs": [],
   "source": [
    "state_housing_df['affordability_index'] = state_housing_df['Households'] / state_housing_df['median_listing_price']"
   ]
  },
  {
   "cell_type": "code",
   "execution_count": null,
   "id": "f0a124d9",
   "metadata": {},
   "outputs": [],
   "source": [
    "states = ['Florida','Michigan','Tennessee']\n",
    "\n",
    "state_housing_df[state_housing_df['state'].isin(states)]"
   ]
  },
  {
   "cell_type": "code",
   "execution_count": null,
   "id": "b586b271",
   "metadata": {},
   "outputs": [],
   "source": [
    "show_national = True\n",
    "\n",
    "# Shows the affordability index over the years for the selected state\n",
    "metric = 'median_listing_price'\n",
    "states = ['Florida','Michigan','Tennessee']\n",
    "\n",
    "# Subsetting dataframe for selected states\n",
    "housing_for_state = state_housing_df[state_housing_df['state'].isin(states)]\n",
    "\n",
    "# Create line graph for national affordability index over several years\n",
    "fig, ax1 = plt.subplots()\n",
    "\n",
    "for state in states:\n",
    "    # Subset dataset for that state\n",
    "    state_data = housing_for_state.query(f\"state == '{state}'\")\n",
    "\n",
    "    # Plot line graph \n",
    "    ax1.plot(state_data['month_date_yyyymm'], state_data[f'{metric}'], color = 'grey')\n",
    "\n",
    "    # Label the end of each line\n",
    "    ax1.text(state_data['month_date_yyyymm'].iloc[0],\n",
    "         state_data[f'{metric}'].iloc[0],\n",
    "         state,\n",
    "         fontsize = 9,\n",
    "         ha = 'left',\n",
    "         color = 'grey',\n",
    "         fontweight = 'bold')\n",
    "\n",
    "# Add a line for the entire united states\n",
    "if show_national == True:\n",
    "    ax1.plot(national_housing_df['month_date_yyyymm'], national_housing_df[f'{metric}'], color = 'black')\n",
    "    \n",
    "    ax1.text(national_housing_df['month_date_yyyymm'].iloc[0],\n",
    "            national_housing_df[f'{metric}'].iloc[0],\n",
    "            'United States',\n",
    "            fontsize = 9,\n",
    "            ha = 'left',\n",
    "            color = 'black',\n",
    "            fontweight = 'bold')\n",
    "\n",
    "# Set the title and axes\n",
    "ax1.set_xlabel('Year')\n",
    "ax1.set_ylabel(f'{metric}')\n",
    "ax1.set_title(f'{metric} Over Time')\n",
    "\n",
    "# Remove the spines\n",
    "ax1.spines['top'].set_visible(False)\n",
    "ax1.spines['right'].set_visible(False)\n",
    "\n",
    "# Define y range\n",
    "ax1.set_ylim(bottom = 0)"
   ]
  },
  {
   "cell_type": "code",
   "execution_count": null,
   "id": "de05448b",
   "metadata": {},
   "outputs": [],
   "source": [
    "states = ['Tennessee','Michigan','Florida']"
   ]
  },
  {
   "cell_type": "code",
   "execution_count": null,
   "id": "15574326",
   "metadata": {},
   "outputs": [],
   "source": [
    "filtered_df = state_housing_df"
   ]
  },
  {
   "cell_type": "code",
   "execution_count": null,
   "id": "266a9593",
   "metadata": {},
   "outputs": [],
   "source": [
    "# Function that takes in metric, month, and year and returns the top 10 states for that specific metric in the given timeframe\n",
    "def top_10_mlp(metric,month,year):\n",
    "\n",
    "    local_filtered_df = filtered_df.query(f\"year == {year} and month == '{month}'\")\\\n",
    "    .sort_values(f\"{metric}\", ascending = False).reset_index()\n",
    "\n",
    "    local_filtered_df = local_filtered_df[['month_date_yyyymm','state',f'{metric}']]\n",
    "    top_10_states = local_filtered_df.head(10)\n",
    "    top_10_states = top_10_states.sort_values(by = f\"{metric}\", ascending = True)\n",
    "\n",
    "    # Define x and y\n",
    "    x = top_10_states[f'{metric}']\n",
    "    y = top_10_states['state']\n",
    "\n",
    "    # Create horizontal bar chart for top 10 states\n",
    "    fig, ax = plt.subplots()\n",
    "    bars = ax.barh(y, x, color = 'grey')\n",
    "\n",
    "    # Highlight a specific state\n",
    "    for bar, state in zip(bars, y):\n",
    "        if state in states:\n",
    "            bar.set_color('blue')\n",
    "\n",
    "    # Set the title and axes\n",
    "    ax.set_xlabel(f'{metric}')\n",
    "    ax.set_title(f'Top 10 States Ranked by {metric} for April 2024 ')\n",
    "\n",
    "    # Remove the spines\n",
    "    ax.spines['top'].set_visible(False)\n",
    "    ax.spines['right'].set_visible(False)\n",
    "\n",
    "    # Label the bar numbers\n",
    "    ax.bar_label(bars, color = 'white', padding = -50)\n",
    "    \n",
    "    # Calculate the max of the metric and round\n",
    "    max_value = x.max()\n",
    "    value_length = len(str(int(max_value)))\n",
    "    round_parameter = (value_length - 1) * -1\n",
    "\n",
    "    # Set the x range\n",
    "    ax.set_xlim((0,max_value))\n",
    "\n",
    "    return fig"
   ]
  },
  {
   "cell_type": "code",
   "execution_count": null,
   "id": "8527a403",
   "metadata": {},
   "outputs": [],
   "source": [
    "top_10_mlp('Households','December',2022)"
   ]
  },
  {
   "cell_type": "markdown",
   "id": "a682bf34",
   "metadata": {},
   "source": [
    "# Create top/bottom 5 states by affordability index bar chart"
   ]
  },
  {
   "cell_type": "code",
   "execution_count": null,
   "id": "6b3b1900",
   "metadata": {},
   "outputs": [],
   "source": [
    "state_housing_df"
   ]
  },
  {
   "cell_type": "code",
   "execution_count": null,
   "id": "766b7c46",
   "metadata": {},
   "outputs": [],
   "source": [
    "metric = 'median_listing_price'\n",
    "month = 'April'\n",
    "year = 2024\n",
    "\n",
    "filtered_df = state_housing_df.query(f\"year == {year} and month == '{month}'\")\\\n",
    ".sort_values(f\"{metric}\", ascending = False).reset_index()\n",
    "\n",
    "filtered_df = filtered_df[['month_date_yyyymm','state',f'{metric}']]\n",
    ", ascending = False\n",
    "top_10_states = filtered_df.head(10)\n",
    "top_10_states = top_10_states.sort_values(by = f\"{metric}\", ascending = True)\n",
    "\n",
    "bottom_10_states = filtered_df.tail(10)\n",
    "\n",
    "# Define x and y\n",
    "x = top_10_states[f'{metric}']\n",
    "y = top_10_states['state']\n",
    "\n",
    "# Create horizontal bar chart for national affordability index by month\n",
    "fig, ax = plt.subplots()\n",
    "bars = ax.barh(y, x, color = 'grey')\n",
    "\n",
    "# Set the title and axes\n",
    "ax.set_xlabel(f'{metric}')\n",
    "ax.set_ylabel('State')\n",
    "ax.set_title(f'Top 10 States by {metric} ')\n",
    "\n",
    "# Remove the spines\n",
    "ax.spines['top'].set_visible(False)\n",
    "ax.spines['right'].set_visible(False)\n",
    "\n",
    "ax.bar_label(bars, color = 'grey', fontweight = 'bold')"
   ]
  },
  {
   "cell_type": "markdown",
   "id": "d35f94e9",
   "metadata": {},
   "source": [
    "# Let's get the % median listing price increase"
   ]
  },
  {
   "cell_type": "markdown",
   "id": "0912f808",
   "metadata": {},
   "source": [
    "- For each state we need to subtract the earliest median listing price from the most recent median listing price and divide by the earliest median listing price\n",
    "- Then we'll have the percentage increase from the starting date of that state"
   ]
  },
  {
   "cell_type": "code",
   "execution_count": null,
   "id": "50dea743",
   "metadata": {},
   "outputs": [],
   "source": [
    "# Sort the states from earliest date to latest\n",
    "price_change = state_housing_df.sort_values(['state','month_date_yyyymm'])\n",
    "\n",
    "# Grab the earliest price and most recent price\n",
    "price_change = price_change.groupby('state').agg(earliest_price = ('median_listing_price','first'),\n",
    "                                 latest_price = ('median_listing_price','last'))\n",
    "\n",
    "# Calculate a percentage increase in price\n",
    "price_change['percentage_increase'] = ((price_change['latest_price'] - price_change['earliest_price'])/ price_change['earliest_price']) * 100\n",
    "\n",
    "# Reset the index\n",
    "price_change = price_change.reset_index()\n",
    "\n",
    "# Sort by the percentage increase and reset index\n",
    "price_change = price_change.sort_values('percentage_increase', ascending = False)\n",
    "price_change = price_change.reset_index(drop = True)\n",
    "\n",
    "# Make a rank column\n",
    "price_change = price_change = price_change.reset_index()\\\n",
    ".rename(columns = {'index': 'rank'})\n",
    "\n",
    "# Add 1 to rank since index starts at 0\n",
    "price_change['rank'] = price_change['rank'] + 1\n",
    "\n",
    "# Subset data for selected columns: Rank, state, % increase\n",
    "price_change = price_change[['rank','state','percentage_increase']]\n",
    "\n",
    "# Convert to a csv file\n",
    "price_change.to_csv('../data/mlp_percent_increase.csv', index = False)"
   ]
  },
  {
   "cell_type": "markdown",
   "id": "6b83b1a2",
   "metadata": {},
   "source": [
    "#  Get 3 plots into one graph"
   ]
  },
  {
   "cell_type": "code",
   "execution_count": null,
   "id": "7b727f77",
   "metadata": {},
   "outputs": [],
   "source": [
    "def mlp_pricing_trend(states, show_national):\n",
    "    \n",
    "    # Define the metric used\n",
    "    metric = 'median_listing_price'\n",
    "    year = 2022\n",
    "    month = 'December'\n",
    "\n",
    "    # Defining top 10 states and bottom 10 states\n",
    "    top_10_states = state_housing_df.query(f\"year == {year} and month == '{month}'\")\\\n",
    "    .sort_values(f\"{metric}\", ascending = False).reset_index()\\\n",
    "    [['month_date_yyyymm','state',f'{metric}']].head(10)\n",
    "\n",
    "    top_10_states = top_10_states['state'].unique()\n",
    "\n",
    "    bottom_10_states = state_housing_df.query(f\"year == {year} and month == '{month}'\")\\\n",
    "    .sort_values(f\"{metric}\", ascending = False).reset_index()\\\n",
    "    [['month_date_yyyymm','state',f'{metric}']].tail(10)\n",
    "\n",
    "    bottom_10_states = bottom_10_states['state'].unique()\n",
    "\n",
    "    # Subsetting dataframe for selected states\n",
    "    housing_for_state = state_housing_df[state_housing_df['state'].isin(states)]\n",
    "\n",
    "    # Create line graph for median listing price over several years\n",
    "    fig, ax1 = plt.subplots()\n",
    "\n",
    "    for state in states:\n",
    "        # Subset dataset for that state\n",
    "        state_data = housing_for_state.query(f\"state == '{state}'\")\n",
    "        \n",
    "        if state in top_10_states:\n",
    "            # Plot line graph \n",
    "            ax1.plot(state_data['month_date_yyyymm'], state_data[f'{metric}'], color = 'blue')\n",
    "            \n",
    "            # Label the end of each line\n",
    "            ax1.text(state_data['month_date_yyyymm'].iloc[0],\n",
    "                state_data[f'{metric}'].iloc[0],\n",
    "                state,\n",
    "                fontsize = 9,\n",
    "                ha = 'left',\n",
    "                color = 'blue',\n",
    "                fontweight = 'bold')\n",
    "        \n",
    "        elif state in bottom_10_states:\n",
    "            # Plot line graph \n",
    "            ax1.plot(state_data['month_date_yyyymm'], state_data[f'{metric}'], color = 'red')\n",
    "\n",
    "            # Label the end of each line\n",
    "            ax1.text(state_data['month_date_yyyymm'].iloc[0],\n",
    "            state_data[f'{metric}'].iloc[0],\n",
    "            state,\n",
    "            fontsize = 9,\n",
    "            ha = 'left',\n",
    "            color = 'red',\n",
    "            fontweight = 'bold')\n",
    "        \n",
    "        else:\n",
    "            # Plot line graph \n",
    "            ax1.plot(state_data['month_date_yyyymm'], state_data[f'{metric}'], color = 'grey')\n",
    "\n",
    "            # Label the end of each line\n",
    "            ax1.text(state_data['month_date_yyyymm'].iloc[0],\n",
    "            state_data[f'{metric}'].iloc[0],\n",
    "            state,\n",
    "            fontsize = 9,\n",
    "            ha = 'left',\n",
    "            color = 'grey',\n",
    "            fontweight = 'bold')   \n",
    "        \n",
    "    # Add a line for the entire united states\n",
    "    if show_national == True:\n",
    "        ax1.plot(national_housing_df['month_date_yyyymm'], national_housing_df[f'{metric}'], color = 'black')\n",
    "        \n",
    "        ax1.text(national_housing_df['month_date_yyyymm'].iloc[0],\n",
    "                national_housing_df[f'{metric}'].iloc[0],\n",
    "                'United States',\n",
    "                fontsize = 9,\n",
    "                ha = 'left',\n",
    "                color = 'black',\n",
    "                fontweight = 'bold')\n",
    "        \n",
    "    # Set the title and axes\n",
    "    ax1.set_ylabel(f'{metric}')\n",
    "    ax1.set_title(f'{metric} Over Time', loc = 'left')\n",
    "\n",
    "    # Remove the spines\n",
    "    ax1.spines['top'].set_visible(False)\n",
    "    ax1.spines['right'].set_visible(False)\n",
    "\n",
    "    # Define y range\n",
    "    ax1.set_ylim(bottom = 0)\n",
    "\n",
    "    # Return the figure\n",
    "    return(fig)\n",
    "\n",
    "# Function that takes in metric, month, and year and returns the top 10 states for that specific metric in the given timeframe\n",
    "def top_10_mlp(metric,month,year):\n",
    "\n",
    "    filtered_df = state_housing_df.query(f\"year == {year} and month == '{month}'\")\\\n",
    "    .sort_values(f\"{metric}\", ascending = False).reset_index()\n",
    "\n",
    "    filtered_df = filtered_df[['month_date_yyyymm','state',f'{metric}']]\n",
    "    top_10_states = filtered_df.head(10)\n",
    "    top_10_states = top_10_states.sort_values(by = f\"{metric}\", ascending = True)\n",
    "\n",
    "    # Define x and y\n",
    "    x = top_10_states[f'{metric}']\n",
    "    y = top_10_states['state']\n",
    "\n",
    "    # Create horizontal bar chart for national affordability index by month\n",
    "    fig, ax = plt.subplots()\n",
    "    bars = ax.barh(y, x, color = 'grey')\n",
    "\n",
    "    # Highlight a specific state\n",
    "    for bar, state in zip(bars, y):\n",
    "        if state in states:\n",
    "            bar.set_color('blue')\n",
    "\n",
    "    # Set the title and axes\n",
    "    ax.set_xlabel(f'{metric}')\n",
    "    ax.set_title(f'Top 10 States by {metric} ')\n",
    "\n",
    "    # Remove the spines\n",
    "    ax.spines['top'].set_visible(False)\n",
    "    ax.spines['right'].set_visible(False)\n",
    "\n",
    "    # Label the bar numbers\n",
    "    ax.bar_label(bars, color = 'white', padding = -50)\n",
    "\n",
    "    # Set the x range\n",
    "    ax.set_xlim((0,900000))\n",
    "\n",
    "    return fig\n",
    "\n",
    "# Function that takes in metric, month, and year and returns the bottom 10 states for that specific metric in the given timeframe\n",
    "def bottom_10_mlp(metric,month,year):\n",
    "\n",
    "    filtered_df = state_housing_df.query(f\"year == {year} and month == '{month}'\")\\\n",
    "    .sort_values(f\"{metric}\", ascending = False).reset_index()\n",
    "\n",
    "    filtered_df = filtered_df[['month_date_yyyymm','state',f'{metric}']]\n",
    "    bottom_10_states = filtered_df.tail(10)\n",
    "    bottom_10_states = bottom_10_states.sort_values(by = f\"{metric}\", ascending = True)\n",
    "\n",
    "    # Define x and y\n",
    "    x = bottom_10_states[f'{metric}']\n",
    "    y = bottom_10_states['state']\n",
    "\n",
    "    # Create horizontal bar chart for national affordability index by month\n",
    "    fig, ax = plt.subplots()\n",
    "    bars = ax.barh(y, x, color = 'grey')\n",
    "\n",
    "    # Highlight a specific state\n",
    "    for bar, state in zip(bars, y):\n",
    "        if state in states:\n",
    "            bar.set_color('red')\n",
    "\n",
    "    # Set the title and axes\n",
    "    ax.set_xlabel(f'{metric}')\n",
    "    ax.set_title(f'Bottom 10 States by {metric} ')\n",
    "\n",
    "    # Remove the spines\n",
    "    ax.spines['top'].set_visible(False)\n",
    "    ax.spines['right'].set_visible(False)\n",
    "\n",
    "    # Label the bar numbers\n",
    "    ax.bar_label(bars, color = 'white', padding = -50)\n",
    "\n",
    "    # Set x range\n",
    "    ax.set_xlim((0,900000))\n",
    "\n",
    "    return fig"
   ]
  },
  {
   "cell_type": "markdown",
   "id": "3d2fc620",
   "metadata": {},
   "source": [
    "Gridspec doesn't look like it'll work for the streamlit dashboard"
   ]
  },
  {
   "cell_type": "code",
   "execution_count": null,
   "id": "1cbf01cd",
   "metadata": {},
   "outputs": [],
   "source": [
    "mlp_increase = pd.read_csv(\"../data/mlp_percent_increase.csv\")"
   ]
  },
  {
   "cell_type": "code",
   "execution_count": null,
   "id": "91ecc3cc",
   "metadata": {},
   "outputs": [],
   "source": [
    "mlp_increase"
   ]
  },
  {
   "cell_type": "code",
   "execution_count": null,
   "id": "8c5e30c6",
   "metadata": {},
   "outputs": [],
   "source": [
    "state_housing_df = "
   ]
  },
  {
   "cell_type": "code",
   "execution_count": null,
   "id": "ee3830af",
   "metadata": {},
   "outputs": [],
   "source": [
    "state_housing_df['month_date_yyyymm'].min().to_pydatetime().year"
   ]
  },
  {
   "cell_type": "code",
   "execution_count": null,
   "id": "fc653cd0",
   "metadata": {},
   "outputs": [],
   "source": [
    "state_housing_df[(state_housing_df['month_date_yyyymm'] >= start_date) & (state_housing_df['month_date_yyyymm'] <= end_date)]['month'].unique()"
   ]
  },
  {
   "cell_type": "code",
   "execution_count": null,
   "id": "10251366",
   "metadata": {},
   "outputs": [],
   "source": [
    "state_housing_df['month_date_yyyymm'].min().to_pydatetime().strftime('%B')"
   ]
  },
  {
   "cell_type": "code",
   "execution_count": null,
   "id": "30da3ab4",
   "metadata": {},
   "outputs": [],
   "source": [
    "# Select metric to pull percentage increase for\n",
    "metric = 'median_listing_price'\n",
    "\n",
    "# Select start and end date\n",
    "start_date = '2017-12-01'\n",
    "end_date = '2020-12-01'\n",
    "\n",
    "# Filter data based on date metrics\n",
    "filtered_df = state_housing_df[(state_housing_df['month_date_yyyymm'] >= start_date) & (state_housing_df['month_date_yyyymm'] <= end_date)]"
   ]
  },
  {
   "cell_type": "code",
   "execution_count": null,
   "id": "9fe1ce6c",
   "metadata": {},
   "outputs": [],
   "source": [
    "# Sort the states from earliest date to latest\n",
    "metric_change = filtered_df.sort_values(['state','month_date_yyyymm'])\n",
    "\n",
    "# Grab the earliest price and most recent price\n",
    "metric_change = metric_change.groupby('state').agg(earliest_metric = (f'{metric}','first'),\n",
    "                                 latest_metric = (f'{metric}','last'))\n",
    "\n",
    "# Calculate a percentage increase in price\n",
    "metric_change['percentage_increase'] = ((metric_change['latest_metric'] - metric_change['earliest_metric'])/ metric_change['earliest_metric']) * 100\n",
    "\n",
    "# Reset the index\n",
    "metric_change = metric_change.reset_index()\n",
    "\n",
    "# Sort by the percentage increase and reset index\n",
    "metric_change = metric_change.sort_values('percentage_increase', ascending = False)\n",
    "metric_change = metric_change.reset_index(drop = True)\n",
    "\n",
    "# Make a rank column\n",
    "metric_change = metric_change = metric_change.reset_index()\\\n",
    ".rename(columns = {'index': 'rank'})\n",
    "\n",
    "# Add 1 to rank since index starts at 0\n",
    "metric_change['rank'] = metric_change['rank'] + 1\n",
    "\n",
    "# Subset data for selected columns: Rank, state, % increase\n",
    "metric_change = metric_change[['rank','state','percentage_increase']]"
   ]
  },
  {
   "cell_type": "code",
   "execution_count": null,
   "id": "7532a720",
   "metadata": {},
   "outputs": [],
   "source": []
  },
  {
   "cell_type": "code",
   "execution_count": null,
   "id": "bc21d891",
   "metadata": {},
   "outputs": [],
   "source": [
    "# Define selected states\n",
    "states = ['Tennessee','Michigan','Hawaii']\n",
    "\n",
    "# Function that takes in selected states and returns bar chart of their median listing percentage increase\n",
    "def percentage_increase_plot(states):   \n",
    "    # Subset data for the selected states\n",
    "    filtered_df = mlp_increase[mlp_increase['state'].isin(states)]\\\n",
    "    .sort_values(by = 'percentage_increase', ascending = True)\n",
    "\n",
    "    # Define x and y for the plot\n",
    "    x = filtered_df['percentage_increase']\n",
    "    y = filtered_df['state']\n",
    "\n",
    "    # Create horizontal bar chart for national affordability index by month\n",
    "    fig, ax = plt.subplots()\n",
    "    bars = ax.barh(y, x, color = 'grey')\n",
    "\n",
    "    # Remove the spines\n",
    "    ax.spines['top'].set_visible(False)\n",
    "    ax.spines['right'].set_visible(False)\n",
    "\n",
    "    # Label the bar numbers\n",
    "    ax.bar_label(bars, color = 'white', padding = -50)\n",
    "\n",
    "    return fig"
   ]
  }
 ],
 "metadata": {
  "kernelspec": {
   "display_name": "Python 3 (ipykernel)",
   "language": "python",
   "name": "python3"
  },
  "language_info": {
   "codemirror_mode": {
    "name": "ipython",
    "version": 3
   },
   "file_extension": ".py",
   "mimetype": "text/x-python",
   "name": "python",
   "nbconvert_exporter": "python",
   "pygments_lexer": "ipython3",
   "version": "3.10.9"
  }
 },
 "nbformat": 4,
 "nbformat_minor": 5
}
