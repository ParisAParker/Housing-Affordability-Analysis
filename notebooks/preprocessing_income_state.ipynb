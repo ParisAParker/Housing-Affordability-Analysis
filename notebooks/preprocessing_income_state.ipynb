{
 "cells": [
  {
   "cell_type": "code",
   "execution_count": 2,
   "metadata": {},
   "outputs": [],
   "source": [
    "# Importing libraries\n",
    "import requests\n",
    "from bs4 import BeautifulSoup\n",
    "import numpy as np\n",
    "import pandas as pd"
   ]
  },
  {
   "cell_type": "code",
   "execution_count": 84,
   "metadata": {},
   "outputs": [],
   "source": [
    "zhvi_one_bed_metro = pd.read_csv(\"../data/ZHVI_1_Bed_Metro_US.csv\")"
   ]
  },
  {
   "cell_type": "code",
   "execution_count": 158,
   "metadata": {},
   "outputs": [],
   "source": [
    "# We only want the median income columns from each state\n",
    "median_income_col = []\n",
    "\n",
    "# Loop through all columns and only return median income\n",
    "for info in income_by_state_2022.columns:\n",
    "    if 'income (dollars)!!Estimate' in info:\n",
    "        median_income_col.append(info)"
   ]
  },
  {
   "cell_type": "code",
   "execution_count": 246,
   "metadata": {},
   "outputs": [],
   "source": [
    "# Creating empty data frame to append all the individual csvs\n",
    "global_income_data = pd.DataFrame()\n",
    "\n",
    "# Looping through each income data file for years 2010 - 2022\n",
    "for year in range (2010,2023):\n",
    "    income_data = pd.read_csv(f'../data/income_by_state/income_by_state_{year}.csv')\n",
    "\n",
    "    # Subsetting data to only include household income for each state & income by age for each state\n",
    "    household_income = income_data.loc[:1]\n",
    "    age_income = income_data.loc[13:16]\n",
    "\n",
    "    # Combining household & age income\n",
    "    income_data = pd.concat([household_income,age_income])\\\n",
    "    .loc[1:]\\\n",
    "    .reset_index(drop = True)\n",
    "\n",
    "    # Make the household & age groups the index\n",
    "    income_data = income_data.set_index('Label (Grouping)')\n",
    "\n",
    "    # Subset the data to only include median columns\n",
    "    income_data = income_data[old_median_income_col]\n",
    "\n",
    "    # Rearranging the data so it's easier to read\n",
    "    income_data = income_data.transpose()\n",
    "    income_data = income_data.reset_index()\\\n",
    "    .rename(columns = {'index':'median_income'})\n",
    "\n",
    "    # Stripping the column names so they're cleaner\n",
    "    income_data.columns = [column.strip() for column in income_data.columns]\n",
    "\n",
    "    # Creating empty list for the states append\n",
    "    state_list = []\n",
    "\n",
    "    # Parse the state from the long string\n",
    "    for label in income_data['median_income']:\n",
    "        state = label.split('!!')[0]\n",
    "        state_list.append(state)\n",
    "\n",
    "    # Making a column for the state\n",
    "    income_data['state'] = state_list\n",
    "\n",
    "    # Making a column for the year\n",
    "    income_data['year'] = year\n",
    "\n",
    "    # Dropping redundant column\n",
    "    income_data = income_data.drop(columns = 'median_income')\n",
    "\n",
    "    # Removing commas from all numeric columns\n",
    "    income_data['15 to 24 years'] = income_data['15 to 24 years'].str.replace(',','')\n",
    "    income_data['25 to 44 years'] = income_data['25 to 44 years'].str.replace(',','')\n",
    "    income_data['45 to 64 years'] = income_data['45 to 64 years'].str.replace(',','')\n",
    "    income_data['65 years and over'] = income_data['65 years and over'].str.replace(',','')\n",
    "    income_data['Households'] = income_data['Households'].str.replace(',','')\n",
    "\n",
    "    #Converting income columns to integers\n",
    "    income_data['15 to 24 years'] = income_data['15 to 24 years'].astype(int)\n",
    "    income_data['25 to 44 years'] = income_data['25 to 44 years'].astype(int)\n",
    "    income_data['45 to 64 years'] = income_data['45 to 64 years'].astype(int)\n",
    "    income_data['65 years and over'] = income_data['65 years and over'].astype(int)\n",
    "    income_data['Households'] = income_data['Households'].astype(int)\n",
    "\n",
    "    # Appending this income data to the global one\n",
    "    global_income_data = pd.concat([global_income_data, income_data], ignore_index= True)\n",
    "\n",
    "# Creating csv for median income by state\n",
    "global_income_data.to_csv(\"../data/median_income_by_state.csv\", index = False)"
   ]
  }
 ],
 "metadata": {
  "kernelspec": {
   "display_name": "base",
   "language": "python",
   "name": "python3"
  },
  "language_info": {
   "codemirror_mode": {
    "name": "ipython",
    "version": 3
   },
   "file_extension": ".py",
   "mimetype": "text/x-python",
   "name": "python",
   "nbconvert_exporter": "python",
   "pygments_lexer": "ipython3",
   "version": "3.11.5"
  }
 },
 "nbformat": 4,
 "nbformat_minor": 2
}
